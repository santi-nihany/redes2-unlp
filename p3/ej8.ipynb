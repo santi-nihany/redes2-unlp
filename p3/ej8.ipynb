{
 "cells": [
  {
   "cell_type": "markdown",
   "metadata": {},
   "source": [
    "Realizar un programa en el lenguaje de su preferencia, que reciba como parámetros el tamaño total del mensaje IPv4 de entrada, la longitud del header del mismo, el MTU de salida y el bit don’t fragment y muestre cómo resultaría la fragmentación del mismo.\n",
    "\n",
    "Por ejemplo un datagrama de 1100B con un header de 20B (mínimo) y un MTU de salida de 200:\n",
    "\n",
    "![execution example](./images/image.png)"
   ]
  },
  {
   "cell_type": "code",
   "execution_count": 43,
   "metadata": {},
   "outputs": [
    {
     "name": "stdout",
     "output_type": "stream",
     "text": [
      "remainder 24\n",
      "1080 TotalDataSent= 176 packetPayloadLength= 176 OffsetBytes= 0 SentOffset= 0 DF=0 MF=1\n",
      "904 TotalDataSent= 352 packetPayloadLength= 176 OffsetBytes= 176 SentOffset= 22 DF=0 MF=1\n",
      "728 TotalDataSent= 528 packetPayloadLength= 176 OffsetBytes= 352 SentOffset= 44 DF=0 MF=1\n",
      "552 TotalDataSent= 704 packetPayloadLength= 176 OffsetBytes= 528 SentOffset= 66 DF=0 MF=1\n",
      "376 TotalDataSent= 880 packetPayloadLength= 176 OffsetBytes= 704 SentOffset= 88 DF=0 MF=1\n",
      "200 TotalDataSent= 1056 packetPayloadLength= 176 OffsetBytes= 880 SentOffset= 110 DF=0 MF=1\n",
      "24 TotalDataSent= 1080 packetPayloadLength= 24 OffsetBytes= 1056 SentOffset= 132 DF=0 MF=0\n",
      "Fragments=7 TotalBytesIN/OUT=1100/1240\n"
     ]
    }
   ],
   "source": [
    "def show_frag(data_size, header, MTU_output, DF):\n",
    "    max_payload = MTU_output - header\n",
    "    payload = max_payload - (max_payload % 8) #payload size must be multiple of 8\n",
    "\n",
    "    remainder = 0\n",
    "    fragments = int((data_size - header) / payload) # fragments to send\n",
    "    if((data_size - header) % payload != 0): \n",
    "        remainder = (data_size - header) - (payload * fragments)\n",
    "        print(\"remainder\", remainder)\n",
    "        fragments+=1\n",
    "    \n",
    "    total_data_sent = 0\n",
    "    sent_offset=0\n",
    "    left_to_transmit=(data_size -header)\n",
    "\n",
    "    for i in range(1, fragments):\n",
    "        total_data_sent += payload\n",
    "\n",
    "        s0 = str(left_to_transmit)\n",
    "        s1 = ' TotalDataSent= ' + str(total_data_sent)\n",
    "        s2 = ' packetPayloadLength= ' + str(payload)\n",
    "        s3 = ' OffsetBytes= ' + str(total_data_sent - payload)\n",
    "        s4 = ' SentOffset= ' + str(sent_offset)\n",
    "        s5 = ' DF=' + str(DF)\n",
    "        if((i == fragments - 1) and (remainder == 0)):\n",
    "            s6 = ' MF=' + str(0)\n",
    "        else:\n",
    "            s6 = ' MF=' + str(1)\n",
    "        print(s0 + s1 + s2 + s3 + s4 + s5 + s6)\n",
    "\n",
    "        left_to_transmit -= payload\n",
    "        sent_offset += int(payload / 8)\n",
    "\n",
    "    if(remainder != 0):\n",
    "        s0 = str(left_to_transmit)\n",
    "        s1 = ' TotalDataSent= ' + str(total_data_sent + remainder)\n",
    "        s2 = ' packetPayloadLength= ' + str(remainder)\n",
    "        s3 = ' OffsetBytes= ' + str(total_data_sent)\n",
    "        s4 = ' SentOffset= ' + str(sent_offset)\n",
    "        s5 = ' DF=' + str(DF)\n",
    "        s6 = ' MF=' + str(0)\n",
    "        print(s0 + s1 + s2 + s3 + s4 + s5 + s6)\n",
    "    print('Fragments='+ str(fragments) + ' TotalBytesIN/OUT='+str(data_size)+'/'+str(data_size  + (header * fragments) ))\n",
    "\n",
    "show_frag(1100, 20,200,0)"
   ]
  }
 ],
 "metadata": {
  "kernelspec": {
   "display_name": "Python 3",
   "language": "python",
   "name": "python3"
  },
  "language_info": {
   "codemirror_mode": {
    "name": "ipython",
    "version": 3
   },
   "file_extension": ".py",
   "mimetype": "text/x-python",
   "name": "python",
   "nbconvert_exporter": "python",
   "pygments_lexer": "ipython3",
   "version": "3.12.2"
  }
 },
 "nbformat": 4,
 "nbformat_minor": 2
}
